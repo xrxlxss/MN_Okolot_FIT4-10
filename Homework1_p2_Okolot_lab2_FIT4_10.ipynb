{
  "nbformat": 4,
  "nbformat_minor": 0,
  "metadata": {
    "colab": {
      "provenance": []
    },
    "kernelspec": {
      "name": "python3",
      "display_name": "Python 3"
    },
    "language_info": {
      "name": "python"
    }
  },
  "cells": [
    {
      "cell_type": "code",
      "execution_count": 36,
      "metadata": {
        "id": "uHHEtttRxGae"
      },
      "outputs": [],
      "source": [
        "import numpy as np"
      ]
    },
    {
      "cell_type": "markdown",
      "source": [
        "1. Задати вектор, що складається з перших п'яти натуральних чисел."
      ],
      "metadata": {
        "id": "stQ-NsZCxZ5J"
      }
    },
    {
      "cell_type": "code",
      "source": [
        "vector = np.array([1,2,3,4,5])\n",
        "vector\n"
      ],
      "metadata": {
        "colab": {
          "base_uri": "https://localhost:8080/"
        },
        "id": "M8iQbheCxq7i",
        "outputId": "06bf8ac8-e360-438c-c9cc-d2afc89e8b53"
      },
      "execution_count": 37,
      "outputs": [
        {
          "output_type": "execute_result",
          "data": {
            "text/plain": [
              "array([1, 2, 3, 4, 5])"
            ]
          },
          "metadata": {},
          "execution_count": 37
        }
      ]
    },
    {
      "cell_type": "markdown",
      "source": [
        "2. Транспортувати вектор"
      ],
      "metadata": {
        "id": "rWtig3RWybEY"
      }
    },
    {
      "cell_type": "code",
      "source": [
        "v1 = np.matrix([1,2,3,4,5])\n",
        "print(v1)\n",
        "v2 = v1.T\n",
        "v2"
      ],
      "metadata": {
        "colab": {
          "base_uri": "https://localhost:8080/"
        },
        "id": "agfnX44WyhxG",
        "outputId": "92bff5c8-503e-4f90-9fc8-9232858c7a52"
      },
      "execution_count": 38,
      "outputs": [
        {
          "output_type": "stream",
          "name": "stdout",
          "text": [
            "[[1 2 3 4 5]]\n"
          ]
        },
        {
          "output_type": "execute_result",
          "data": {
            "text/plain": [
              "matrix([[1],\n",
              "        [2],\n",
              "        [3],\n",
              "        [4],\n",
              "        [5]])"
            ]
          },
          "metadata": {},
          "execution_count": 38
        }
      ]
    },
    {
      "cell_type": "markdown",
      "source": [
        "3. Напишіть функцію, яка перевертає вектор у зворотньому порядку"
      ],
      "metadata": {
        "id": "f_IDEUnvzEOH"
      }
    },
    {
      "cell_type": "code",
      "source": [
        "v = np.array([1,2,3,4,5])\n",
        "print(v[::-1])"
      ],
      "metadata": {
        "colab": {
          "base_uri": "https://localhost:8080/"
        },
        "id": "rHB6FThYzQhF",
        "outputId": "65ecd803-2208-4070-f887-051d1e8ac2e2"
      },
      "execution_count": 39,
      "outputs": [
        {
          "output_type": "stream",
          "name": "stdout",
          "text": [
            "[5 4 3 2 1]\n"
          ]
        }
      ]
    },
    {
      "cell_type": "code",
      "source": [
        "v = np.flip(v)\n",
        "print(v)"
      ],
      "metadata": {
        "colab": {
          "base_uri": "https://localhost:8080/"
        },
        "id": "mh4vDmDMzfM4",
        "outputId": "1da0a48e-fcb7-410e-8f35-bb45b2b8cfe3"
      },
      "execution_count": 40,
      "outputs": [
        {
          "output_type": "stream",
          "name": "stdout",
          "text": [
            "[5 4 3 2 1]\n"
          ]
        }
      ]
    },
    {
      "cell_type": "markdown",
      "source": [
        "4. Обчислити середнє значення вектора"
      ],
      "metadata": {
        "id": "azy8CPnMz1mB"
      }
    },
    {
      "cell_type": "code",
      "source": [
        "print(np.mean(v))"
      ],
      "metadata": {
        "colab": {
          "base_uri": "https://localhost:8080/"
        },
        "id": "VwtNgrL1z9GE",
        "outputId": "f2dc6c8b-3775-4ed5-adc4-88a6d1399759"
      },
      "execution_count": 41,
      "outputs": [
        {
          "output_type": "stream",
          "name": "stdout",
          "text": [
            "3.0\n"
          ]
        }
      ]
    },
    {
      "cell_type": "markdown",
      "source": [
        "5. Знайти найбільший і найменший елементи вектора"
      ],
      "metadata": {
        "id": "0DPxSYMd0IrF"
      }
    },
    {
      "cell_type": "code",
      "source": [
        "print(np.max(v))\n",
        "print(np.min(v))"
      ],
      "metadata": {
        "colab": {
          "base_uri": "https://localhost:8080/"
        },
        "id": "3ZftsZEq0joq",
        "outputId": "9e557ff5-4169-4774-c265-4e0fdf11278b"
      },
      "execution_count": 42,
      "outputs": [
        {
          "output_type": "stream",
          "name": "stdout",
          "text": [
            "5\n",
            "1\n"
          ]
        }
      ]
    },
    {
      "cell_type": "markdown",
      "source": [
        "6. Обчислити скалярний добуток (dot product) двох векторів"
      ],
      "metadata": {
        "id": "Y4M2Eweb0trY"
      }
    },
    {
      "cell_type": "code",
      "source": [
        "v1 = np.array([1,2,3])\n",
        "v2 = np.array([4,5,6])\n",
        "\n",
        "print(np.dot(v1,v2))\n",
        "print(v1*v2)"
      ],
      "metadata": {
        "colab": {
          "base_uri": "https://localhost:8080/"
        },
        "id": "mFhNVJIX04iI",
        "outputId": "2f466d1f-a44e-4895-d25a-169e3c47ed38"
      },
      "execution_count": 43,
      "outputs": [
        {
          "output_type": "stream",
          "name": "stdout",
          "text": [
            "32\n",
            "[ 4 10 18]\n"
          ]
        }
      ]
    },
    {
      "cell_type": "markdown",
      "source": [
        "7. Напишіть функцію яка нормалізує вектор (зводить до одиничної довжини)."
      ],
      "metadata": {
        "id": "wDborrxY1QGm"
      }
    },
    {
      "cell_type": "code",
      "source": [
        "v = np.array([1,2,3,4,5])\n",
        "norm = np.linalg.norm(v)\n",
        "\n",
        "print(norm)\n",
        "\n",
        "v/norm"
      ],
      "metadata": {
        "colab": {
          "base_uri": "https://localhost:8080/"
        },
        "id": "uK8hQPJq1jrn",
        "outputId": "95a75711-5503-4948-afa2-1110a43a8068"
      },
      "execution_count": 44,
      "outputs": [
        {
          "output_type": "stream",
          "name": "stdout",
          "text": [
            "7.416198487095663\n"
          ]
        },
        {
          "output_type": "execute_result",
          "data": {
            "text/plain": [
              "array([0.13483997, 0.26967994, 0.40451992, 0.53935989, 0.67419986])"
            ]
          },
          "metadata": {},
          "execution_count": 44
        }
      ]
    },
    {
      "cell_type": "markdown",
      "source": [
        "8. Задайте два вектори. Визначте, чи є вони ортогональними. Підказка: якщо скалярний добуток дорівнює нулю - вектори ортогональні."
      ],
      "metadata": {
        "id": "fzZ5hsnY2bKB"
      }
    },
    {
      "cell_type": "code",
      "source": [
        "v1 = np.array([1,0,0])\n",
        "v2 = np.array([0,1,0])\n",
        "\n",
        "np.dot(v1,v2)"
      ],
      "metadata": {
        "colab": {
          "base_uri": "https://localhost:8080/"
        },
        "id": "2cJES4uz2yIL",
        "outputId": "1806379a-88eb-4369-b9fe-23fe0486dde9"
      },
      "execution_count": 45,
      "outputs": [
        {
          "output_type": "execute_result",
          "data": {
            "text/plain": [
              "np.int64(0)"
            ]
          },
          "metadata": {},
          "execution_count": 45
        }
      ]
    },
    {
      "cell_type": "markdown",
      "source": [
        "9. Визначити унікальні елементи вектора"
      ],
      "metadata": {
        "id": "0EfgT1xy3CqT"
      }
    },
    {
      "cell_type": "code",
      "source": [
        "v = np.array([1,2,3,2,4,5,3])\n",
        "np.unique(v)"
      ],
      "metadata": {
        "colab": {
          "base_uri": "https://localhost:8080/"
        },
        "id": "AH4EB2H53Hop",
        "outputId": "63018e11-4741-41c7-c2a2-61a0770d21d2"
      },
      "execution_count": 46,
      "outputs": [
        {
          "output_type": "execute_result",
          "data": {
            "text/plain": [
              "array([1, 2, 3, 4, 5])"
            ]
          },
          "metadata": {},
          "execution_count": 46
        }
      ]
    },
    {
      "cell_type": "markdown",
      "source": [
        "10. Знайти вектори"
      ],
      "metadata": {
        "id": "nVmXURtr3dre"
      }
    },
    {
      "cell_type": "code",
      "source": [
        "v1 = np.array([1,2,3])\n",
        "v2 = np.array([4,5,6])\n",
        "\n",
        "print(v1 - v2)\n",
        "print(v2 - v1)\n",
        "print(v1 + v2)\n",
        "print(v2 + v1)\n",
        "print(v1 * v2)\n",
        "print(v2 * v1)\n",
        "print(v1 / v2)\n",
        "print(v2 / v1)"
      ],
      "metadata": {
        "colab": {
          "base_uri": "https://localhost:8080/"
        },
        "id": "OK4C-RTb3iN_",
        "outputId": "6843b679-9436-4539-9a35-504df9122ec2"
      },
      "execution_count": 47,
      "outputs": [
        {
          "output_type": "stream",
          "name": "stdout",
          "text": [
            "[-3 -3 -3]\n",
            "[3 3 3]\n",
            "[5 7 9]\n",
            "[5 7 9]\n",
            "[ 4 10 18]\n",
            "[ 4 10 18]\n",
            "[0.25 0.4  0.5 ]\n",
            "[4.  2.5 2. ]\n"
          ]
        }
      ]
    },
    {
      "cell_type": "markdown",
      "source": [
        "11. Перевірити, чи дорівнює довжина вектора 5"
      ],
      "metadata": {
        "id": "nXTLT_8A5BMW"
      }
    },
    {
      "cell_type": "code",
      "source": [
        "vector = np.array([1,2,3,4,5])\n",
        "length = np.linalg.norm(vector)\n",
        "\n",
        "np.isclose(length, 5)"
      ],
      "metadata": {
        "colab": {
          "base_uri": "https://localhost:8080/"
        },
        "id": "m6Ieeijw5IT1",
        "outputId": "704dafa5-cd23-49e5-f721-74b1912264a8"
      },
      "execution_count": 48,
      "outputs": [
        {
          "output_type": "execute_result",
          "data": {
            "text/plain": [
              "np.False_"
            ]
          },
          "metadata": {},
          "execution_count": 48
        }
      ]
    },
    {
      "cell_type": "markdown",
      "source": [
        "12. Задати матрицю, заповнену випадковими числами"
      ],
      "metadata": {
        "id": "F55ZkRPd5lrj"
      }
    },
    {
      "cell_type": "code",
      "source": [
        "a = np.random.randint(0,11,(3,3))\n",
        "a"
      ],
      "metadata": {
        "colab": {
          "base_uri": "https://localhost:8080/"
        },
        "id": "-dXUWb0t5tpQ",
        "outputId": "3a4d5325-5bbd-4a8f-c3e0-1f32e962a09c"
      },
      "execution_count": 49,
      "outputs": [
        {
          "output_type": "execute_result",
          "data": {
            "text/plain": [
              "array([[ 9,  0,  7],\n",
              "       [10,  2,  4],\n",
              "       [ 3,  2,  1]])"
            ]
          },
          "metadata": {},
          "execution_count": 49
        }
      ]
    },
    {
      "cell_type": "markdown",
      "source": [
        "13. Обчислити визначник матриці"
      ],
      "metadata": {
        "id": "XtdJTZwX6b-5"
      }
    },
    {
      "cell_type": "code",
      "source": [
        "np.linalg.det(a)"
      ],
      "metadata": {
        "colab": {
          "base_uri": "https://localhost:8080/"
        },
        "id": "tCaMASMm6h4d",
        "outputId": "584f4913-3eb6-4101-e827-9e293deb107c"
      },
      "execution_count": 50,
      "outputs": [
        {
          "output_type": "execute_result",
          "data": {
            "text/plain": [
              "np.float64(44.000000000000014)"
            ]
          },
          "metadata": {},
          "execution_count": 50
        }
      ]
    },
    {
      "cell_type": "markdown",
      "source": [
        "14. Знаходження оберненої матриці"
      ],
      "metadata": {
        "id": "t8RqWGjb6oi_"
      }
    },
    {
      "cell_type": "code",
      "source": [
        "np.linalg.inv(a)"
      ],
      "metadata": {
        "colab": {
          "base_uri": "https://localhost:8080/"
        },
        "id": "FMsJ8hth6uL0",
        "outputId": "297a916e-02c1-43a3-cfdf-0b714b75c377"
      },
      "execution_count": 51,
      "outputs": [
        {
          "output_type": "execute_result",
          "data": {
            "text/plain": [
              "array([[-0.13636364,  0.31818182, -0.31818182],\n",
              "       [ 0.04545455, -0.27272727,  0.77272727],\n",
              "       [ 0.31818182, -0.40909091,  0.40909091]])"
            ]
          },
          "metadata": {},
          "execution_count": 51
        }
      ]
    },
    {
      "cell_type": "markdown",
      "source": [
        "15. Розв'яжіть систему лінійних рівнянь A*x=b, де A - матриця коефіцієнтів, b - вектор вільних членів."
      ],
      "metadata": {
        "id": "M0EVLkrX7S72"
      }
    },
    {
      "cell_type": "code",
      "source": [
        "a = np.array([[1,3,-4], [0,2,-3], [-2,2,5]])\n",
        "b = np.array([5,3,4])\n",
        "\n",
        "x = np.linalg.solve(a,b)\n",
        "print(x)\n",
        "\n",
        "inv_a = np.linalg.inv(a)\n",
        "x1 = inv_a.dot(b)\n",
        "print(x1)"
      ],
      "metadata": {
        "colab": {
          "base_uri": "https://localhost:8080/"
        },
        "id": "tIC_W4Uc712v",
        "outputId": "7b3992f4-fac9-4e95-8a8d-7294b134f4d7"
      },
      "execution_count": 52,
      "outputs": [
        {
          "output_type": "stream",
          "name": "stdout",
          "text": [
            "[0.38888889 1.83333333 0.22222222]\n",
            "[0.38888889 1.83333333 0.22222222]\n"
          ]
        }
      ]
    },
    {
      "cell_type": "markdown",
      "source": [
        "16. Множення двох матриць"
      ],
      "metadata": {
        "id": "0myQT2o8Iv6y"
      }
    },
    {
      "cell_type": "code",
      "source": [
        "a = np.array([[1,3,-4], [0,2,-3], [-2,2,5]])\n",
        "b = np.array([5,3,4])\n",
        "\n",
        "np.dot(a,b)"
      ],
      "metadata": {
        "id": "70EaUNsj8-U2",
        "colab": {
          "base_uri": "https://localhost:8080/"
        },
        "outputId": "adef742d-1f9e-400b-dc60-0d52aba88029"
      },
      "execution_count": 53,
      "outputs": [
        {
          "output_type": "execute_result",
          "data": {
            "text/plain": [
              "array([-2, -6, 16])"
            ]
          },
          "metadata": {},
          "execution_count": 53
        }
      ]
    },
    {
      "cell_type": "code",
      "source": [
        "a = np.matrix([[1,3,-4], [0,2,-3]])\n",
        "b = np.matrix([[5,3,4], [2,3,5], [3,2,3]])\n",
        "print(a)\n",
        "print(b)\n",
        "print(np.dot(a,b))"
      ],
      "metadata": {
        "colab": {
          "base_uri": "https://localhost:8080/"
        },
        "id": "xYSXMRNX9wFy",
        "outputId": "3c281854-d24a-442b-b1d7-c1938e7ba32d"
      },
      "execution_count": 54,
      "outputs": [
        {
          "output_type": "stream",
          "name": "stdout",
          "text": [
            "[[ 1  3 -4]\n",
            " [ 0  2 -3]]\n",
            "[[5 3 4]\n",
            " [2 3 5]\n",
            " [3 2 3]]\n",
            "[[-1  4  7]\n",
            " [-5  0  1]]\n"
          ]
        }
      ]
    },
    {
      "cell_type": "markdown",
      "source": [
        "17. Транспонування матриці"
      ],
      "metadata": {
        "id": "4VNovR4n-a5F"
      }
    },
    {
      "cell_type": "code",
      "source": [
        "print(a.T)\n",
        "print(b.T)"
      ],
      "metadata": {
        "colab": {
          "base_uri": "https://localhost:8080/"
        },
        "id": "bB0mDSqC-jbI",
        "outputId": "00939094-3f1b-4790-cb90-6fce965ec64c"
      },
      "execution_count": 55,
      "outputs": [
        {
          "output_type": "stream",
          "name": "stdout",
          "text": [
            "[[ 1  0]\n",
            " [ 3  2]\n",
            " [-4 -3]]\n",
            "[[5 2 3]\n",
            " [3 3 2]\n",
            " [4 5 3]]\n"
          ]
        }
      ]
    },
    {
      "cell_type": "code",
      "source": [
        "print(np.transpose(a))\n",
        "print(np.transpose(b))"
      ],
      "metadata": {
        "colab": {
          "base_uri": "https://localhost:8080/"
        },
        "id": "MtaViziD-rFj",
        "outputId": "55486259-c0b2-4b7e-900f-e08c915faa81"
      },
      "execution_count": 56,
      "outputs": [
        {
          "output_type": "stream",
          "name": "stdout",
          "text": [
            "[[ 1  0]\n",
            " [ 3  2]\n",
            " [-4 -3]]\n",
            "[[5 2 3]\n",
            " [3 3 2]\n",
            " [4 5 3]]\n"
          ]
        }
      ]
    },
    {
      "cell_type": "markdown",
      "source": [
        "18. Перевірка симетричності матриці"
      ],
      "metadata": {
        "id": "Wl15nRD1-7Ba"
      }
    },
    {
      "cell_type": "code",
      "source": [
        "matrix = np.matrix([[2,2,2], [2,2,2], [2,2,2]])\n",
        "\n",
        "np.allclose(matrix, matrix.T)"
      ],
      "metadata": {
        "colab": {
          "base_uri": "https://localhost:8080/"
        },
        "id": "TO5-A_dR-_8c",
        "outputId": "a23a183f-6904-4ebf-ffc8-e3ea349b97ff"
      },
      "execution_count": 57,
      "outputs": [
        {
          "output_type": "execute_result",
          "data": {
            "text/plain": [
              "True"
            ]
          },
          "metadata": {},
          "execution_count": 57
        }
      ]
    },
    {
      "cell_type": "markdown",
      "source": [
        "19. Обчислення сліду матриці"
      ],
      "metadata": {
        "id": "rtc1jBVD_U0H"
      }
    },
    {
      "cell_type": "code",
      "source": [
        "np.trace(matrix)"
      ],
      "metadata": {
        "colab": {
          "base_uri": "https://localhost:8080/"
        },
        "id": "K3x9M9YI_YZY",
        "outputId": "84baf2ac-c218-407c-a17e-41591d3cae58"
      },
      "execution_count": 58,
      "outputs": [
        {
          "output_type": "execute_result",
          "data": {
            "text/plain": [
              "np.int64(6)"
            ]
          },
          "metadata": {},
          "execution_count": 58
        }
      ]
    },
    {
      "cell_type": "markdown",
      "source": [
        "20. Дії з матрицями"
      ],
      "metadata": {
        "id": "YXF9zNcU_e0B"
      }
    },
    {
      "cell_type": "code",
      "source": [
        "a = np.matrix([[1,2], [3,4]])\n",
        "b = np.matrix([[5,6], [7,8]])\n",
        "\n",
        "print(np.add(a,b))\n",
        "print(np.subtract(a,b))\n",
        "print(np.multiply(a,b))\n",
        "print(np.divide(a,b))"
      ],
      "metadata": {
        "colab": {
          "base_uri": "https://localhost:8080/"
        },
        "id": "3M5E8be__vgO",
        "outputId": "f61e0175-ac84-46a9-af21-e0f202752d40"
      },
      "execution_count": 59,
      "outputs": [
        {
          "output_type": "stream",
          "name": "stdout",
          "text": [
            "[[ 6  8]\n",
            " [10 12]]\n",
            "[[-4 -4]\n",
            " [-4 -4]]\n",
            "[[ 5 12]\n",
            " [21 32]]\n",
            "[[0.2        0.33333333]\n",
            " [0.42857143 0.5       ]]\n"
          ]
        }
      ]
    },
    {
      "cell_type": "markdown",
      "source": [
        "21. Піднесення матриці до ступеня"
      ],
      "metadata": {
        "id": "u1gY0oPhAjj3"
      }
    },
    {
      "cell_type": "code",
      "source": [
        "a = np.matrix([[1,2], [3,4]])\n",
        "\n",
        "np.linalg.matrix_power(a,2)"
      ],
      "metadata": {
        "colab": {
          "base_uri": "https://localhost:8080/"
        },
        "id": "nqJDkD1CAtUj",
        "outputId": "eb8b3abd-7c23-47d3-8062-74401d2f0acc"
      },
      "execution_count": 60,
      "outputs": [
        {
          "output_type": "execute_result",
          "data": {
            "text/plain": [
              "matrix([[ 7, 10],\n",
              "        [15, 22]])"
            ]
          },
          "metadata": {},
          "execution_count": 60
        }
      ]
    },
    {
      "cell_type": "markdown",
      "source": [
        "22. Сортування рядків або стовпців матриці"
      ],
      "metadata": {
        "id": "vORZudmZBMHD"
      }
    },
    {
      "cell_type": "code",
      "source": [
        "b = np.matrix([[5,3,4], [2,3,5], [3,2,3]])\n",
        "\n",
        "print(b)\n",
        "print(np.sort(b, axis=0))\n",
        "print(np.sort(b, axis=1))\n",
        "print(np.sort(b, axis= None))"
      ],
      "metadata": {
        "colab": {
          "base_uri": "https://localhost:8080/"
        },
        "id": "GMqhdgtBBSqq",
        "outputId": "4c6fcd87-63e9-4e5c-c82c-e48b7da8f1e7"
      },
      "execution_count": 61,
      "outputs": [
        {
          "output_type": "stream",
          "name": "stdout",
          "text": [
            "[[5 3 4]\n",
            " [2 3 5]\n",
            " [3 2 3]]\n",
            "[[2 2 3]\n",
            " [3 3 4]\n",
            " [5 3 5]]\n",
            "[[3 4 5]\n",
            " [2 3 5]\n",
            " [2 3 3]]\n",
            "[[2 2 3 3 3 3 4 5 5]]\n"
          ]
        }
      ]
    },
    {
      "cell_type": "code",
      "source": [
        "a = np.array([[1,4], [3,1]])\n",
        "\n",
        "print(a)\n",
        "print(np.sort(a))"
      ],
      "metadata": {
        "colab": {
          "base_uri": "https://localhost:8080/"
        },
        "id": "A0FWRCcwB89_",
        "outputId": "9bd87921-2345-432d-d515-c8d9c6ec85af"
      },
      "execution_count": 62,
      "outputs": [
        {
          "output_type": "stream",
          "name": "stdout",
          "text": [
            "[[1 4]\n",
            " [3 1]]\n",
            "[[1 4]\n",
            " [1 3]]\n"
          ]
        }
      ]
    },
    {
      "cell_type": "markdown",
      "source": [
        "23. Підрахувати суму елементів кожного рядка матриці. Відповідь запиши, як вектор стовпчик."
      ],
      "metadata": {
        "id": "cxSMcMTfDQzW"
      }
    },
    {
      "cell_type": "code",
      "source": [
        "row_sums = np.sum(a, axis=1).reshape(-1,1)\n",
        "\n",
        "print(\"Сума елементів кожного рядка:\")\n",
        "print(row_sums)\n",
        "# В результаті отримали вектор - стовпчик"
      ],
      "metadata": {
        "colab": {
          "base_uri": "https://localhost:8080/"
        },
        "id": "nphl7JaBDfFq",
        "outputId": "c2ef23c8-9859-4ebc-af81-975978f29320"
      },
      "execution_count": 63,
      "outputs": [
        {
          "output_type": "stream",
          "name": "stdout",
          "text": [
            "Сума елементів кожного рядка:\n",
            "[[5]\n",
            " [4]]\n"
          ]
        }
      ]
    },
    {
      "cell_type": "markdown",
      "source": [
        "**Висновок:** робота закріпила навички роботи з масивами, векторами та матрицями в Python, а також застосування базових лінійних та статистичних операцій."
      ],
      "metadata": {
        "id": "B_kOAeFLFFmN"
      }
    }
  ]
}